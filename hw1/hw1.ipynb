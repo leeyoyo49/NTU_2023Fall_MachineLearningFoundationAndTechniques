{
 "cells": [
  {
   "attachments": {},
   "cell_type": "markdown",
   "metadata": {},
   "source": [
    "# Preprocess\n",
    "\n",
    "Read data into ```data``` which is a ```np.array```\n",
    "\n",
    "Read y into ```y``` also a ```np.array```\n",
    "\n",
    "```update(wn, x, y, correct = True)``` is for updating weight"
   ]
  },
  {
   "cell_type": "code",
   "execution_count": 31,
   "metadata": {},
   "outputs": [],
   "source": [
    "import numpy as np\n",
    "import random\n",
    "import matplotlib.pyplot as plt\n",
    "\n",
    "data_list = []\n",
    "y = []\n",
    "# read file into data and y\n",
    "with open(\"data.txt\", 'r') as file:\n",
    "    for line in file:\n",
    "        values = line.strip().split()\n",
    "        values = [float(value) for value in values]\n",
    "        values.insert(0, 1)\n",
    "        data_list.append(values[0:-1])\n",
    "        y.append(values[-1])\n",
    "\n",
    "data = np.array(data_list)\n",
    "y = np.array(y)\n",
    "\n",
    "# some const.\n",
    "data_size = y.size\n",
    "dimension = data[0].size\n",
    "\n",
    "# for later use, for updating w\n",
    "def update(wn, x, y, correct = True):\n",
    "    correct = True\n",
    "    if(np.dot(wn,x)*y <= 0):\n",
    "        wn += x*y\n",
    "        correct = False\n",
    "    return wn, correct\n"
   ]
  },
  {
   "attachments": {},
   "cell_type": "markdown",
   "metadata": {},
   "source": [
    "# Problem 9\n",
    "\n",
    "Please first follow page 4/22 of Lecture 2, and add x0 = 1 to every xn. Implement a version of PLA that randomly picks an example (xn,yn) in every iteration, and updates wt if and only if wt is incorrect on the example. Note that the random picking can be simply implemented with replacement—that is, the same example can be picked multiple times, even consecutively. Stop updating and return wt as wPLA if wt is correct consecutively after checking 5N randomly-picked examples."
   ]
  },
  {
   "cell_type": "code",
   "execution_count": 32,
   "metadata": {},
   "outputs": [
    {
     "data": {
      "image/png": "[encoded data removed]",
      "text/plain": [
       "<Figure size 640x480 with 1 Axes>"
      ]
     },
     "metadata": {},
     "output_type": "display_data"
    },
    {
     "name": "stdout",
     "output_type": "stream",
     "text": [
      "Median: 196.0\n"
     ]
    }
   ],
   "source": [
    "# 9\n",
    "total_update_cnt = np.zeros(1000)\n",
    "# use seed 0-999\n",
    "for seed in range(1000):\n",
    "    random.seed(seed)\n",
    "    success_cnt = 0\n",
    "    update_cnt = 0\n",
    "    wpla = np.zeros(dimension)\n",
    "    # check until 5N is enough\n",
    "    while success_cnt < 5*data_size:\n",
    "        # random pick index\n",
    "        rand_index = random.randint(0,data_size-1)\n",
    "        # check and update\n",
    "        wpla, correct = update(wpla, data[rand_index], y[rand_index])\n",
    "        if correct:\n",
    "            success_cnt+=1\n",
    "        else:\n",
    "            update_cnt+=1\n",
    "    total_update_cnt[seed] = update_cnt\n",
    "\n",
    "# plot\n",
    "unique_elements, counts = np.unique(total_update_cnt, return_counts=True)\n",
    "plt.bar(unique_elements, counts)\n",
    "plt.xlabel('Number of update')\n",
    "plt.ylabel('Count')\n",
    "plt.show()\n",
    "print(\"Median:\", np.median(total_update_cnt))\n"
   ]
  },
  {
   "attachments": {},
   "cell_type": "markdown",
   "metadata": {},
   "source": [
    "We can see that the plot is almost like normal distribution\n",
    "The Median is 196.0"
   ]
  },
  {
   "attachments": {},
   "cell_type": "markdown",
   "metadata": {},
   "source": [
    "# Problem 10\n",
    "\n",
    "Scale up each xn by 11.26, including scaling each x0 from 1 to 11.26. Then, run PLA on the scaled examples for 1000 experiments, each with a different random seed. Plot a histogram to visualize the distribution of the number of updates needed before returning wPLA. What is the median number of updates? Compare your result to that of Problem 9. Describe your findings.\n"
   ]
  },
  {
   "cell_type": "code",
   "execution_count": 33,
   "metadata": {},
   "outputs": [
    {
     "data": {
      "image/png": "[encoded data removed]",
      "text/plain": [
       "<Figure size 640x480 with 1 Axes>"
      ]
     },
     "metadata": {},
     "output_type": "display_data"
    },
    {
     "name": "stdout",
     "output_type": "stream",
     "text": [
      "Median: 196.0\n"
     ]
    }
   ],
   "source": [
    "# 10\n",
    "\n",
    "# whole data * 11.26\n",
    "data1126 = data*11.26\n",
    "total_update_cnt = np.zeros(1000)\n",
    "for seed in range(1000):\n",
    "    random.seed(seed)\n",
    "    success_cnt = 0\n",
    "    update_cnt = 0\n",
    "    wpla = np.zeros(dimension)\n",
    "    while success_cnt < 5*data_size:\n",
    "        rand_index = random.randint(0,data_size-1)\n",
    "        wpla, correct = update(wpla, data1126[rand_index], y[rand_index])\n",
    "        if correct:\n",
    "            success_cnt+=1\n",
    "        else:\n",
    "            update_cnt+=1\n",
    "    total_update_cnt[seed] = update_cnt\n",
    "\n",
    "unique_elements, counts = np.unique(total_update_cnt, return_counts=True)\n",
    "plt.bar(unique_elements, counts)\n",
    "plt.xlabel('Number of update')\n",
    "plt.ylabel('Count')\n",
    "plt.show()\n",
    "print(\"Median:\", np.median(total_update_cnt))\n"
   ]
  },
  {
   "attachments": {},
   "cell_type": "markdown",
   "metadata": {},
   "source": [
    "The result didn't change at all, the median is still 196.0, and the plot is basically the same.\n",
    "\n",
    "Since scaling the whole data set by a constant C simply change every step of updating into timing C the whole time."
   ]
  },
  {
   "attachments": {},
   "cell_type": "markdown",
   "metadata": {},
   "source": [
    "# Probelm 11\n",
    "\n",
    "Set x0 = 11.26 to every xn instead of x0 = 1, and do not do any scaling. Repeat the 1000 experiments above. Plot a histogram to visualize the distribution of the number of updates needed before returning wPLA. What is the median number of updates? Compare your result to that of Problem 9. Describe your findings."
   ]
  },
  {
   "cell_type": "code",
   "execution_count": 34,
   "metadata": {},
   "outputs": [
    {
     "data": {
      "image/png": "[encoded data removed]",
      "text/plain": [
       "<Figure size 640x480 with 1 Axes>"
      ]
     },
     "metadata": {},
     "output_type": "display_data"
    },
    {
     "name": "stdout",
     "output_type": "stream",
     "text": [
      "Median: 192.0\n"
     ]
    }
   ],
   "source": [
    "# 11\n",
    "\n",
    "# x0 * 11.26\n",
    "data1126 = data\n",
    "data1126[:, 0] *= 11.26\n",
    "total_update_cnt = np.zeros(1000)\n",
    "for seed in range(1000):\n",
    "    random.seed(seed)\n",
    "    success_cnt = 0\n",
    "    update_cnt = 0\n",
    "    wpla = np.zeros(dimension)\n",
    "    while success_cnt < 5*data_size:\n",
    "        rand_index = random.randint(0,data_size-1)\n",
    "        wpla, correct = update(wpla, data1126[rand_index], y[rand_index])\n",
    "        if correct:\n",
    "            success_cnt+=1\n",
    "        else:\n",
    "            update_cnt+=1\n",
    "    total_update_cnt[seed] = update_cnt\n",
    "\n",
    "# plot\n",
    "unique_elements, counts = np.unique(total_update_cnt, return_counts=True)\n",
    "plt.bar(unique_elements, counts)\n",
    "plt.xlabel('Number of update')\n",
    "plt.ylabel('Count')\n",
    "plt.show()\n",
    "print(\"Median:\", np.median(total_update_cnt))\n"
   ]
  },
  {
   "attachments": {},
   "cell_type": "markdown",
   "metadata": {},
   "source": [
    "The median become 192.0 which is smaller than before.\n",
    "\n",
    "Moreover the middle of the plot becomes sharper, the performance each time becomes more average."
   ]
  },
  {
   "attachments": {},
   "cell_type": "markdown",
   "metadata": {},
   "source": [
    "# Problem 12\n",
    "\n",
    "Set x0 = 1 to every xn, and do not do any scaling. Modify your PLA above to a variant that keeps correcting the same example until it is perfectly classified. That is, when selecting an incorrect example (xn(t),yn(t)) for updating, the algorithm keeps using that example (that is, n(t+1) = n(t)) to update until the weight vector perfectly classifies the example (and each update counts!). Repeat the 1000 experiments above. Plot a histogram to visualize the distribution of the number of updates needed before returning wPLA. What is the median number of updates? Compare your result to that of Problem 9. Describe your findings.\n"
   ]
  },
  {
   "cell_type": "code",
   "execution_count": 41,
   "metadata": {},
   "outputs": [
    {
     "data": {
      "image/png": "[encoded data removed]",
      "text/plain": [
       "<Figure size 640x480 with 1 Axes>"
      ]
     },
     "metadata": {},
     "output_type": "display_data"
    },
    {
     "name": "stdout",
     "output_type": "stream",
     "text": [
      "Median: 185.0\n"
     ]
    }
   ],
   "source": [
    "# 12\n",
    "data_list = []\n",
    "y = []\n",
    "# read file into data and y\n",
    "with open(\"data.txt\", 'r') as file:\n",
    "    for line in file:\n",
    "        values = line.strip().split()\n",
    "        values = [float(value) for value in values]\n",
    "        values.insert(0, 1)\n",
    "        data_list.append(values[0:-1])\n",
    "        y.append(values[-1])\n",
    "\n",
    "data = np.array(data_list)\n",
    "y = np.array(y)\n",
    "\n",
    "# check same x until valid\n",
    "total_update_cnt = np.zeros(1000)\n",
    "for seed in range(1000):\n",
    "    random.seed(seed)\n",
    "    success_cnt = 0\n",
    "    update_cnt = 0\n",
    "    wpla = np.zeros(dimension)\n",
    "    while success_cnt < 5*data_size:\n",
    "        rand_index = random.randint(0,data_size-1)\n",
    "\n",
    "        while (np.dot(wpla,data[rand_index])*y[rand_index] <= 0):\n",
    "            wpla += data[rand_index]*y[rand_index]\n",
    "            update_cnt += 1\n",
    "\n",
    "        success_cnt += 1\n",
    "\n",
    "                \n",
    "    total_update_cnt[seed] = update_cnt\n",
    "\n",
    "# plot\n",
    "unique_elements, counts = np.unique(total_update_cnt, return_counts=True)\n",
    "plt.bar(unique_elements, counts)\n",
    "plt.xlabel('Number of update')\n",
    "plt.ylabel('Count')\n",
    "plt.show()\n",
    "print(\"Median:\", np.median(total_update_cnt))\n"
   ]
  },
  {
   "attachments": {},
   "cell_type": "markdown",
   "metadata": {},
   "source": [
    "The median becomes smaller again, with a value of 185.0. \n",
    "\n",
    "The middle part of the plot becomes way more sharper than next time. More trial's update count becomes closer to average."
   ]
  }
 ],
 "metadata": {
  "kernelspec": {
   "display_name": "Python 3 (ipykernel)",
   "language": "python",
   "name": "python3"
  },
  "language_info": {
   "codemirror_mode": {
    "name": "ipython",
    "version": 3
   },
   "file_extension": ".py",
   "mimetype": "text/x-python",
   "name": "python",
   "nbconvert_exporter": "python",
   "pygments_lexer": "ipython3",
   "version": "3.11.3"
  }
 },
 "nbformat": 4,
 "nbformat_minor": 4
}
