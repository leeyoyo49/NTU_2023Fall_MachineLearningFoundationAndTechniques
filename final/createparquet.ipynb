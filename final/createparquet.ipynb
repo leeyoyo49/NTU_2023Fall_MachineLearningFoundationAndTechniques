{
 "cells": [
  {
   "cell_type": "code",
   "execution_count": 2,
   "metadata": {},
   "outputs": [],
   "source": [
    "import matplotlib.pyplot as plt\n",
    "import numpy as np\n",
    "import pandas as pd\n",
    "import torch\n",
    "import torch.nn as nn\n",
    "import torch.optim as optim\n",
    "import torch.utils.data as data\n",
    "from torch.utils.data import random_split, TensorDataset\n",
    "\n",
    "import datetime\n",
    "import os\n",
    "\n",
    "import optuna\n",
    "import torch.optim as optim"
   ]
  },
  {
   "cell_type": "code",
   "execution_count": 9,
   "metadata": {},
   "outputs": [
    {
     "name": "stdout",
     "output_type": "stream",
     "text": [
      "['20231104', '20231103', '20231102', '20231105', '20231015', '20231025', '20231007', '20231009', '20231031', '20231203', '20231202', '20231030', '20231008', '20231006', '20231129', '20231116', '20231111', '20231118', '20231127', '20231120', '20231121', '20231119', '20231126', '20231110', '20231128', '20231117', '20231109', '20231107', '20231106', '20231101', '20231108', '20231130', '20231020', '20231027', '20231018', '20231011', '20231016', '20231029', '20231017', '20231028', '20231010', '20231026', '20231019', '20231003', '20231004', '20231201', '20231005', '20231002', '20231112', '20231115', '20231123', '20231124', '20231125', '20231122', '20231114', '20231113']\n",
      "['500101001' '500101013' '500101025' '500101035' '500101093' '500101185'\n",
      " '500105066' '500119049' '500119059' '500119069']\n"
     ]
    }
   ],
   "source": [
    "# read sno_test_set.txt to available_station\n",
    "available_station = np.loadtxt('html.2023.final.data/sno_test_set.txt', dtype='str')\n",
    "available_station = available_station\n",
    "folder_path = 'html.2023.final.data/release'  # replace with your actual folder path\n",
    "available_date = os.listdir(folder_path)\n",
    "available_date = [date for date in available_date if date <= '20231203']\n",
    "print(available_date)\n",
    "\n",
    "\n",
    "def get_one_hot_weekday(date_str):\n",
    "    # Convert the date string to a datetime object\n",
    "    date = datetime.datetime.strptime(date_str, '%Y%m%d')\n",
    "    \n",
    "    # Get the weekday (Monday is 0, Sunday is 6)\n",
    "    weekday = date.weekday()\n",
    "    \n",
    "    # Create a one-hot encoded list for the weekday\n",
    "    one_hot_weekday = [1 if i == weekday else 0 for i in range(7)]\n",
    "    \n",
    "    return one_hot_weekday\n",
    "\n",
    "def time_to_minute(time_str):\n",
    "    hours, minutes = map(int, time_str.split(':'))\n",
    "    total_minutes = hours * 60 + minutes\n",
    "    return total_minutes\n",
    "\n",
    "date_to_one_hot_weekday = {}\n",
    "for date in available_date:\n",
    "    date_to_one_hot_weekday[date] = [ x for x in get_one_hot_weekday(date)]\n",
    "\n",
    "sbis = []\n",
    "time = []\n",
    "feature_num = 8\n",
    "unit_time = 1\n",
    "one_hot_weekday = []\n",
    "available_station = available_station[range(0, 100, 10)]    \n",
    "print(available_station)\n",
    "\n",
    "for using_station in available_station:\n",
    "    dataset = pd.DataFrame()\n",
    "    for date in available_date:\n",
    "        df = pd.read_json(f'html.2023.final.data/release/{date}/{using_station}.json', convert_axes=False)\n",
    "        df = df.transpose()\n",
    "        # remove row with empty value\n",
    "        df = df.dropna()\n",
    "        df.reset_index(inplace=True)\n",
    "        df = df.rename(columns={'index': 'time'})\n",
    "        df['time'] = df['time'].apply(time_to_minute)\n",
    "        df[['mon','tue','wed','thu','fri','sat','sun']] = [date_to_one_hot_weekday[date]] * len(df)\n",
    "        df['station'] = [using_station] * len(df)\n",
    "        dataset = pd.concat([dataset,df], ignore_index=False)\n",
    "    pd.DataFrame.to_parquet(dataset, f'parquets/{using_station}train.parquet')\n",
    "\n",
    "# dataset = pd.DataFrame()\n",
    "# for using_station in available_station:\n",
    "#     for date in available_date:\n",
    "#         df = pd.read_json(f'html.2023.final.data/release/{date}/{using_station}.json', convert_axes=False)\n",
    "#         df = df.transpose()\n",
    "#         # remove row with empty value\n",
    "#         df = df.dropna()\n",
    "#         df.reset_index(inplace=True)\n",
    "#         df = df.rename(columns={'index': 'time'})\n",
    "#         df['time'] = df['time'].apply(time_to_minute)\n",
    "#         df[['mon','tue','wed','thu','fri','sat','sun']] = [date_to_one_hot_weekday[date]] * len(df)\n",
    "#         df['station'] = [using_station] * len(df)\n",
    "#         df[f'{using_station}'] = [1] * len(df)\n",
    "#         dataset = pd.concat([dataset,df], ignore_index=False)\n",
    "#         # station number as feature\n",
    "# # set nan to 0\n",
    "# dataset = dataset.fillna(0)\n",
    "# pd.DataFrame.to_parquet(dataset, f'parquets/all.parquet')"
   ]
  }
 ],
 "metadata": {
  "kernelspec": {
   "display_name": "html-qsiNAWFM-py3.11",
   "language": "python",
   "name": "python3"
  },
  "language_info": {
   "codemirror_mode": {
    "name": "ipython",
    "version": 3
   },
   "file_extension": ".py",
   "mimetype": "text/x-python",
   "name": "python",
   "nbconvert_exporter": "python",
   "pygments_lexer": "ipython3",
   "version": "3.11.3"
  }
 },
 "nbformat": 4,
 "nbformat_minor": 2
}
